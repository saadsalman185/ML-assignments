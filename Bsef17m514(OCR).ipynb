{
 "cells": [
  {
   "cell_type": "code",
   "execution_count": 18,
   "metadata": {},
   "outputs": [
    {
     "name": "stdout",
     "output_type": "stream",
     "text": [
      "[2 2 2 2 2 2 2 2 2 2 2 2 2 2 2 2 2 2 2 2 2 2 2 2 2 2 2 2 2 2 2 2 2 2 2 2 2\n",
      " 2 2 2 2 2 2 2 2 2 2 2 2 2 4 4 4 4 4 4 4 4 4 4 4 4 4 4 4 4 4 4 4 4 4 4 4 4\n",
      " 4 4 4 4 4 4 4 4 4 4 4 4 4 4 4 4 4 4 4 4 4 4 4 4 4 4]\n",
      "Accuracy: 100.0%\n"
     ]
    }
   ],
   "source": [
    "import numpy as np\n",
    "import pandas as pd\n",
    "import matplotlib.pyplot as plt\n",
    "\n",
    "#taking data and converting in numpy\n",
    "trn_x=np.array(pd.read_csv('trainX.txt',sep=\" \",header=None))[:,1:]\n",
    "trn_y=np.array(pd.read_csv('trainY.txt',sep=\" \",header=None))[:,1:].flatten()\n",
    "test_x=np.array(pd.read_csv('testX.txt',sep=\" \",header=None))[:,1:]\n",
    "test_y=np.array(pd.read_csv('testY.txt',sep=\" \",header=None))[:,1:].flatten()\n",
    "\n",
    "#seprating the 2s and 4s \n",
    "twos=trn_x[trn_y==2]\n",
    "fours=trn_x[trn_y==4]\n",
    "\n",
    "#applying formulas\n",
    "P_two_1 = (np.sum(twos,axis=0)+1)/(twos.shape[0]+2)\n",
    "P_two_0 = 1 - P_two_1\n",
    "\n",
    "P_four_1 = (np.sum(fours,axis=0)+1)/(fours.shape[0]+2)\n",
    "P_four_0 = 1 - P_four_1\n",
    "\n",
    "#checking the test images\n",
    "P_two = [(np.prod(np.take(P_two_1, np.where(img==1)[0]))*np.prod(np.take(P_two_0, np.where(img==0)[0]))) for img in test_x ]\n",
    "P_four = [(np.prod(np.take(P_four_1, np.where(img==1)[0]))*np.prod(np.take(P_four_0, np.where(img==0)[0]))) for img in test_x ]\n",
    "\n",
    "#showing results\n",
    "res=np.array([2 if i>j else 4 for i,j in zip(P_two,P_four)])\n",
    "print(res)\n",
    "#checking the accuracy\n",
    "TP,FP=np.count_nonzero((res==2)*(test_y==2)), np.count_nonzero((res==2)*(test_y==4))\n",
    "TN,FN=np.count_nonzero((res==4)*(test_y==4)), np.count_nonzero((res==4)*(test_y==2))\n",
    "accuracy = (TP+TN)/(TP+TN+FN+FP)\n",
    "print('Accuracy: ',accuracy*100,'%',sep='')\n",
    "    \n"
   ]
  },
  {
   "cell_type": "code",
   "execution_count": 7,
   "metadata": {},
   "outputs": [],
   "source": []
  },
  {
   "cell_type": "code",
   "execution_count": null,
   "metadata": {},
   "outputs": [],
   "source": []
  }
 ],
 "metadata": {
  "kernelspec": {
   "display_name": "Python 3",
   "language": "python",
   "name": "python3"
  },
  "language_info": {
   "codemirror_mode": {
    "name": "ipython",
    "version": 3
   },
   "file_extension": ".py",
   "mimetype": "text/x-python",
   "name": "python",
   "nbconvert_exporter": "python",
   "pygments_lexer": "ipython3",
   "version": "3.7.4"
  }
 },
 "nbformat": 4,
 "nbformat_minor": 2
}
