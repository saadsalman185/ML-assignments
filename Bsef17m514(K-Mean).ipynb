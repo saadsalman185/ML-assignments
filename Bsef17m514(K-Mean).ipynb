{
 "cells": [
  {
   "cell_type": "code",
   "execution_count": 1,
   "metadata": {},
   "outputs": [],
   "source": [
    "import numpy as np\n",
    "import matplotlib.pyplot as plt\n",
    "from PIL import Image\n",
    "import cv2 as cv\n",
    "\n",
    "img=cv.imread('test_messi.jpg')\n",
    "#scaling the image\n",
    "img=img/255\n",
    "cv.imshow('image', img)\n",
    "cv.waitKey(0)\n",
    "cv.destroyAllWindows()"
   ]
  },
  {
   "cell_type": "code",
   "execution_count": 2,
   "metadata": {},
   "outputs": [
    {
     "name": "stdout",
     "output_type": "stream",
     "text": [
      "<class 'numpy.ndarray'>\n"
     ]
    }
   ],
   "source": [
    "print (type(img))\n",
    "a=np.array(img)\n",
    "#print (a)"
   ]
  },
  {
   "cell_type": "code",
   "execution_count": null,
   "metadata": {},
   "outputs": [],
   "source": []
  },
  {
   "cell_type": "code",
   "execution_count": 3,
   "metadata": {},
   "outputs": [
    {
     "name": "stdout",
     "output_type": "stream",
     "text": [
      "Enter the number of colors in the compressed image. default = 16\n",
      "4\n",
      "[[0. 0. 0.]\n",
      " [0. 0. 0.]\n",
      " [0. 0. 0.]\n",
      " [0. 0. 0.]]\n",
      "[0. 0. 0. ... 0. 0. 0.]\n",
      "5\n",
      "4\n",
      "3\n",
      "2\n",
      "1\n"
     ]
    },
    {
     "data": {
      "image/png": "[encoded data removed]",
      "text/plain": [
       "<Figure size 432x288 with 1 Axes>"
      ]
     },
     "metadata": {
      "needs_background": "light"
     },
     "output_type": "display_data"
    }
   ],
   "source": [
    "e=np.reshape(a,(614400,3))\n",
    "#print(len(e))\n",
    "rows=e.shape[0]\n",
    "cols=e.shape[1]\n",
    "clusters = 16\n",
    "clusters = int(input('Enter the number of colors in the compressed image. default = 16\\n')) \n",
    "means = np.zeros((clusters, cols))\n",
    "print(means)\n",
    "#randomly selecting the point\n",
    "for i in range(clusters): \n",
    "    rand1 = int(np.random.random(1)*10) \n",
    "    rand2 = int(np.random.random(1)*8) \n",
    "    means[i] = e[rand1] \n",
    "    means[i] = e[rand2]\n",
    "        \n",
    "###distance formula\n",
    "def distance(x1,y1,x2,y2): \n",
    " \n",
    "\tdist = np.square(x1 - x2) + np.square(y1 - y2) \n",
    "\tdist = np.sqrt(dist) \n",
    "\n",
    "\treturn dist \n",
    "###K-mean-algorithm#################################################\n",
    "iterations = 5\n",
    "index = np.zeros(rows)\n",
    "print(index)\n",
    "\n",
    "\t# k-means algorithm. \n",
    "while(iterations > 0): \n",
    "    print(iterations)\n",
    "    for j in range(len(e)): \n",
    "        minv = 1000\n",
    "        temp = None\n",
    "\n",
    "        for k in range(clusters): \n",
    "\n",
    "            x1 = e[j, 0]\n",
    "            y1 = e[j, 1]\n",
    "            x2 = means[k, 0]\n",
    "            y2 = means[k, 1]\n",
    "            if(distance(x1,y1,x2,y2)<minv):\n",
    "                minv = distance(x1,y1,x2,y2) \n",
    "                temp = k \n",
    "                index[j] = k \n",
    "\n",
    "    for k in range(clusters): \n",
    "\n",
    "        sumx = 0\n",
    "        sumy = 0\n",
    "        count = 0\n",
    "\n",
    "        for j in range(len(e)): \n",
    "\n",
    "            if(index[j] == k): \n",
    "                sumx += e[j, 0] \n",
    "                sumy += e[j, 1] \n",
    "                count += 1\n",
    "\n",
    "        if(count == 0): \n",
    "            count = 1\n",
    "\n",
    "        means[k, 0] = float(sumx / count) \n",
    "        #print(means)\n",
    "        means[k, 1] = float(sumy / count)\t \n",
    "        #print(means)\n",
    "    iterations -= 1\n",
    "# recovering the compressed image by \n",
    "# assigning each pixel to its corresponding centroid. \n",
    "centroid = np.array(means)\n",
    "recovered = centroid[index.astype(int), :] \n",
    "\n",
    "# getting back the 3d matrix (row, col, rgb(3)) \n",
    "recovered = np.reshape(recovered, (img.shape[0], img.shape[1],img.shape[2]))\n",
    "#print(recovered)\n",
    "\n",
    "# plotting the compressed image. \n",
    "plt.imshow(recovered) \n",
    "plt.show()\n",
    "#show the image colors\n",
    "#img1 = Image.fromarray(recovered, 'RGB')\n",
    "#img1.save('my.png')\n",
    "#img1.show()\n",
    "\n"
   ]
  },
  {
   "cell_type": "code",
   "execution_count": null,
   "metadata": {},
   "outputs": [],
   "source": [
    "\n"
   ]
  }
 ],
 "metadata": {
  "kernelspec": {
   "display_name": "Python 3",
   "language": "python",
   "name": "python3"
  },
  "language_info": {
   "codemirror_mode": {
    "name": "ipython",
    "version": 3
   },
   "file_extension": ".py",
   "mimetype": "text/x-python",
   "name": "python",
   "nbconvert_exporter": "python",
   "pygments_lexer": "ipython3",
   "version": "3.7.4"
  }
 },
 "nbformat": 4,
 "nbformat_minor": 2
}
